{
 "cells": [
  {
   "cell_type": "markdown",
   "id": "58fa9acb",
   "metadata": {},
   "source": [
    "# 🎥 Video Upscale - Colab Notebook\n",
    "This notebook runs the `video_sr_webui.py` script with Gradio interface using Google Colab."
   ]
  },
  {
   "cell_type": "code",
   "execution_count": null,
   "id": "92ca6dad",
   "metadata": {},
   "outputs": [],
   "source": [
    "# 🔁 Clone the GitHub Repo\n",
    "!git clone https://github.com/ainextday/Video_UpScale.git\n",
    "%cd Video_UpScale"
   ]
  },
  {
   "cell_type": "code",
   "execution_count": null,
   "id": "00c3129e",
   "metadata": {},
   "outputs": [],
   "source": [
    "# 🔧 Install PyTorch (CUDA 12.1)\n",
    "!pip install torch==2.2.2+cu121 torchvision==0.17.2+cu121 torchaudio==2.2.2+cu121 --index-url https://download.pytorch.org/whl/cu121"
   ]
  },
  {
   "cell_type": "code",
   "execution_count": null,
   "id": "139416f5",
   "metadata": {},
   "outputs": [],
   "source": [
    "# 📦 Install other dependencies\n",
    "!pip install -r requirements.txt\n",
    "!pip install gradio moviepy pydub omegaconf basicsr facelib"
   ]
  },
  {
   "cell_type": "code",
   "execution_count": null,
   "id": "220a8e5a",
   "metadata": {},
   "outputs": [],
   "source": [
    "# 🚀 Launch the Gradio App (with share link)\n",
    "!python scripts/video_sr_webui.py"
   ]
  }
 ],
 "metadata": {},
 "nbformat": 4,
 "nbformat_minor": 5
}
