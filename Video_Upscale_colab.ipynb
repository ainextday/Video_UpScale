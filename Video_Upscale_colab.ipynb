{
 "cells": [
  {
   "cell_type": "markdown",
   "id": "c250e3be",
   "metadata": {},
   "source": [
    "# 🎥 Video Upscale - Colab Notebook\n",
    "This notebook runs the `video_sr_webui.py` script with Gradio interface on Google Colab."
   ]
  },
  {
   "cell_type": "code",
   "execution_count": null,
   "id": "f31befe0",
   "metadata": {},
   "outputs": [],
   "source": [
    "# ✅ Clone GitHub Repo\n",
    "!git clone https://github.com/ainextday/Video_UpScale.git\n",
    "%cd Video_UpScale\n",
    "\n",
    "# ✅ Add local paths for basicsr and facelib (no need to install)\n",
    "import sys\n",
    "sys.path.append('./basicsr')\n",
    "sys.path.append('./facelib')\n",
    "\n",
    "# ✅ Install PyTorch (CUDA 12.1) and other essential libs\n",
    "!pip install torch==2.2.2+cu121 torchvision==0.17.2+cu121 torchaudio==2.2.2+cu121 --index-url https://download.pytorch.org/whl/cu121\n",
    "!pip install -r requirements.txt\n",
    "!pip install gradio moviepy pydub omegaconf\n",
    "\n",
    "# 🚀 Run the Gradio App with share link\n",
    "!python scripts/video_sr_webui.py"
   ]
  }
 ],
 "metadata": {
  "language_info": {
   "name": "python"
  }
 },
 "nbformat": 4,
 "nbformat_minor": 5
}
